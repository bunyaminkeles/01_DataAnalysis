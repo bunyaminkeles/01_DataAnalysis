{
 "cells": [
  {
   "cell_type": "code",
   "execution_count": null,
   "id": "cd9086d8",
   "metadata": {},
   "outputs": [],
   "source": [
    "data = {\"Sender\": \"5, 2, 10, 2-12-20\"\n",
    "        \"Receiver\": \"1\", \"3\", \"15\"\n",
    "\n",
    "2-13-20\n",
    "        \"Amount\":\n",
    "        \"Transaction_date\":\n",
    "\n",
    "\n",
    "\n",
    "\n",
    "\n",
    "2\n",
    "\n",
    "1\n",
    "\n",
    "20\n",
    "\n",
    "2-13-20\n",
    "\n",
    "2\n",
    "\n",
    "3\n",
    "\n",
    "25\n",
    "\n",
    "2-14-20\n",
    "\n",
    "3\n",
    "\n",
    "1\n",
    "\n",
    "20\n",
    "\n",
    "2-15-20\n",
    "\n",
    "3\n",
    "\n",
    "2\n",
    "\n",
    "15\n",
    "\n",
    "2-15-20\n",
    "\n",
    "1\n",
    "\n",
    "4\n",
    "\n",
    "5\n",
    "\n",
    "2-16-20}"
   ]
  }
 ],
 "metadata": {
  "kernelspec": {
   "display_name": "Python 3",
   "language": "python",
   "name": "python3"
  },
  "language_info": {
   "codemirror_mode": {
    "name": "ipython",
    "version": 3
   },
   "file_extension": ".py",
   "mimetype": "text/x-python",
   "name": "python",
   "nbconvert_exporter": "python",
   "pygments_lexer": "ipython3",
   "version": "3.8.8"
  }
 },
 "nbformat": 4,
 "nbformat_minor": 5
}
