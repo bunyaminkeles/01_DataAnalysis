{
 "cells": [
  {
   "cell_type": "code",
   "execution_count": 1,
   "id": "868f537a",
   "metadata": {},
   "outputs": [],
   "source": [
    "import pyodbc\n",
    "import pandas as pd"
   ]
  },
  {
   "cell_type": "markdown",
   "id": "e8588107",
   "metadata": {},
   "source": [
    "**1- Import the \"IMDB top 1000_LV.csv\" dataset with Python.**"
   ]
  },
  {
   "cell_type": "code",
   "execution_count": 2,
   "id": "e00de1b9",
   "metadata": {},
   "outputs": [
    {
     "data": {
      "text/plain": [
       "'C:\\\\Users\\\\bunya\\\\Desktop\\\\iT\\\\DataAnalysis\\\\01-DA_InClass'"
      ]
     },
     "execution_count": 2,
     "metadata": {},
     "output_type": "execute_result"
    }
   ],
   "source": [
    "pwd"
   ]
  },
  {
   "cell_type": "code",
   "execution_count": 3,
   "id": "5a174dbd",
   "metadata": {},
   "outputs": [
    {
     "data": {
      "text/html": [
       "<div>\n",
       "<style scoped>\n",
       "    .dataframe tbody tr th:only-of-type {\n",
       "        vertical-align: middle;\n",
       "    }\n",
       "\n",
       "    .dataframe tbody tr th {\n",
       "        vertical-align: top;\n",
       "    }\n",
       "\n",
       "    .dataframe thead th {\n",
       "        text-align: right;\n",
       "    }\n",
       "</style>\n",
       "<table border=\"1\" class=\"dataframe\">\n",
       "  <thead>\n",
       "    <tr style=\"text-align: right;\">\n",
       "      <th></th>\n",
       "      <th>Movie_ID</th>\n",
       "      <th>Title</th>\n",
       "      <th>Certificate</th>\n",
       "      <th>Duration</th>\n",
       "      <th>Genre</th>\n",
       "      <th>Rate</th>\n",
       "      <th>Metascore</th>\n",
       "      <th>Description</th>\n",
       "      <th>Year</th>\n",
       "      <th>Directors</th>\n",
       "      <th>Stars</th>\n",
       "      <th>Votes</th>\n",
       "      <th>Gross($M)</th>\n",
       "    </tr>\n",
       "  </thead>\n",
       "  <tbody>\n",
       "    <tr>\n",
       "      <th>0</th>\n",
       "      <td>1</td>\n",
       "      <td>The Shawshank Redemption</td>\n",
       "      <td>13+</td>\n",
       "      <td>142</td>\n",
       "      <td>Drama</td>\n",
       "      <td>9.3</td>\n",
       "      <td>80</td>\n",
       "      <td>Two imprisoned men bond over a number of years...</td>\n",
       "      <td>1994</td>\n",
       "      <td>Frank Darabont</td>\n",
       "      <td>Tim Robbins, Morgan Freeman, Bob Gunton, Willi...</td>\n",
       "      <td>2377444</td>\n",
       "      <td>28.34</td>\n",
       "    </tr>\n",
       "    <tr>\n",
       "      <th>1</th>\n",
       "      <td>2</td>\n",
       "      <td>The Godfather</td>\n",
       "      <td>16</td>\n",
       "      <td>175</td>\n",
       "      <td>Crime, Drama</td>\n",
       "      <td>9.2</td>\n",
       "      <td>100</td>\n",
       "      <td>An organized crime dynasty's aging patriarch t...</td>\n",
       "      <td>1972</td>\n",
       "      <td>Francis Ford Coppola</td>\n",
       "      <td>Marlon Brando, Al Pacino, James Caan, Diane Ke...</td>\n",
       "      <td>1646788</td>\n",
       "      <td>134.97</td>\n",
       "    </tr>\n",
       "  </tbody>\n",
       "</table>\n",
       "</div>"
      ],
      "text/plain": [
       "   Movie_ID                     Title Certificate  Duration         Genre  \\\n",
       "0         1  The Shawshank Redemption         13+       142         Drama   \n",
       "1         2             The Godfather          16       175  Crime, Drama   \n",
       "\n",
       "   Rate  Metascore                                        Description  Year  \\\n",
       "0   9.3         80  Two imprisoned men bond over a number of years...  1994   \n",
       "1   9.2        100  An organized crime dynasty's aging patriarch t...  1972   \n",
       "\n",
       "              Directors                                              Stars  \\\n",
       "0        Frank Darabont  Tim Robbins, Morgan Freeman, Bob Gunton, Willi...   \n",
       "1  Francis Ford Coppola  Marlon Brando, Al Pacino, James Caan, Diane Ke...   \n",
       "\n",
       "     Votes  Gross($M)  \n",
       "0  2377444      28.34  \n",
       "1  1646788     134.97  "
      ]
     },
     "execution_count": 3,
     "metadata": {},
     "output_type": "execute_result"
    }
   ],
   "source": [
    "df = pd.read_csv(\"IMDB top 1000_LV.csv\")\n",
    "df.head(2)"
   ]
  },
  {
   "cell_type": "code",
   "execution_count": 4,
   "id": "3f517560",
   "metadata": {},
   "outputs": [
    {
     "data": {
      "text/plain": [
       "(1000, 13)"
      ]
     },
     "execution_count": 4,
     "metadata": {},
     "output_type": "execute_result"
    }
   ],
   "source": [
    "df.shape"
   ]
  },
  {
   "cell_type": "markdown",
   "id": "4d243ddb",
   "metadata": {},
   "source": [
    "**2- Create an empty table in a database with Python.**"
   ]
  },
  {
   "cell_type": "code",
   "execution_count": 5,
   "id": "3a8293b5",
   "metadata": {},
   "outputs": [
    {
     "ename": "NameError",
     "evalue": "name 'Error' is not defined",
     "output_type": "error",
     "traceback": [
      "\u001b[1;31m---------------------------------------------------------------------------\u001b[0m",
      "\u001b[1;31mInterfaceError\u001b[0m                            Traceback (most recent call last)",
      "\u001b[1;32m<ipython-input-5-780aefdf20b1>\u001b[0m in \u001b[0;36mcreate_server_connection\u001b[1;34m(driver, server, database, user, password)\u001b[0m\n\u001b[0;32m      3\u001b[0m     \u001b[1;32mtry\u001b[0m\u001b[1;33m:\u001b[0m\u001b[1;33m\u001b[0m\u001b[1;33m\u001b[0m\u001b[0m\n\u001b[1;32m----> 4\u001b[1;33m         \u001b[0mconn\u001b[0m \u001b[1;33m=\u001b[0m \u001b[0mpyodbc\u001b[0m\u001b[1;33m.\u001b[0m\u001b[0mconnect\u001b[0m\u001b[1;33m(\u001b[0m\u001b[0mDRIVER\u001b[0m\u001b[1;33m=\u001b[0m\u001b[0mdriver\u001b[0m\u001b[1;33m,\u001b[0m \u001b[0mSERVER\u001b[0m\u001b[1;33m=\u001b[0m\u001b[0mserver\u001b[0m\u001b[1;33m,\u001b[0m \u001b[0mDATABASE\u001b[0m\u001b[1;33m=\u001b[0m\u001b[0mdatabase\u001b[0m\u001b[1;33m,\u001b[0m \u001b[0mUID\u001b[0m\u001b[1;33m=\u001b[0m\u001b[0muser\u001b[0m\u001b[1;33m,\u001b[0m \u001b[0mPWD\u001b[0m\u001b[1;33m=\u001b[0m\u001b[0mpassword\u001b[0m\u001b[1;33m)\u001b[0m\u001b[1;33m\u001b[0m\u001b[1;33m\u001b[0m\u001b[0m\n\u001b[0m\u001b[0;32m      5\u001b[0m         \u001b[0mprint\u001b[0m\u001b[1;33m(\u001b[0m\u001b[1;34m\"Successful!\"\u001b[0m\u001b[1;33m)\u001b[0m\u001b[1;33m\u001b[0m\u001b[1;33m\u001b[0m\u001b[0m\n",
      "\u001b[1;31mInterfaceError\u001b[0m: ('28000', \"[28000] [Microsoft][ODBC Driver 17 for SQL Server][SQL Server]Login failed for user 'Bk'. (18456) (SQLDriverConnect); [28000] [Microsoft][ODBC Driver 17 for SQL Server][SQL Server]Login failed for user 'Bk'. (18456)\")",
      "\nDuring handling of the above exception, another exception occurred:\n",
      "\u001b[1;31mNameError\u001b[0m                                 Traceback (most recent call last)",
      "\u001b[1;32m<ipython-input-5-780aefdf20b1>\u001b[0m in \u001b[0;36m<module>\u001b[1;34m\u001b[0m\n\u001b[0;32m     13\u001b[0m \u001b[0muser\u001b[0m \u001b[1;33m=\u001b[0m \u001b[1;34m'Bk'\u001b[0m\u001b[1;33m\u001b[0m\u001b[1;33m\u001b[0m\u001b[0m\n\u001b[0;32m     14\u001b[0m \u001b[0mpassword\u001b[0m \u001b[1;33m=\u001b[0m \u001b[1;34m'Abc123'\u001b[0m\u001b[1;33m\u001b[0m\u001b[1;33m\u001b[0m\u001b[0m\n\u001b[1;32m---> 15\u001b[1;33m \u001b[0mconn\u001b[0m \u001b[1;33m=\u001b[0m \u001b[0mcreate_server_connection\u001b[0m\u001b[1;33m(\u001b[0m\u001b[0mdriver\u001b[0m\u001b[1;33m,\u001b[0m \u001b[0mserver\u001b[0m\u001b[1;33m,\u001b[0m \u001b[0mdatabase\u001b[0m\u001b[1;33m,\u001b[0m \u001b[0muser\u001b[0m\u001b[1;33m,\u001b[0m \u001b[0mpassword\u001b[0m\u001b[1;33m)\u001b[0m\u001b[1;33m\u001b[0m\u001b[1;33m\u001b[0m\u001b[0m\n\u001b[0m",
      "\u001b[1;32m<ipython-input-5-780aefdf20b1>\u001b[0m in \u001b[0;36mcreate_server_connection\u001b[1;34m(driver, server, database, user, password)\u001b[0m\n\u001b[0;32m      4\u001b[0m         \u001b[0mconn\u001b[0m \u001b[1;33m=\u001b[0m \u001b[0mpyodbc\u001b[0m\u001b[1;33m.\u001b[0m\u001b[0mconnect\u001b[0m\u001b[1;33m(\u001b[0m\u001b[0mDRIVER\u001b[0m\u001b[1;33m=\u001b[0m\u001b[0mdriver\u001b[0m\u001b[1;33m,\u001b[0m \u001b[0mSERVER\u001b[0m\u001b[1;33m=\u001b[0m\u001b[0mserver\u001b[0m\u001b[1;33m,\u001b[0m \u001b[0mDATABASE\u001b[0m\u001b[1;33m=\u001b[0m\u001b[0mdatabase\u001b[0m\u001b[1;33m,\u001b[0m \u001b[0mUID\u001b[0m\u001b[1;33m=\u001b[0m\u001b[0muser\u001b[0m\u001b[1;33m,\u001b[0m \u001b[0mPWD\u001b[0m\u001b[1;33m=\u001b[0m\u001b[0mpassword\u001b[0m\u001b[1;33m)\u001b[0m\u001b[1;33m\u001b[0m\u001b[1;33m\u001b[0m\u001b[0m\n\u001b[0;32m      5\u001b[0m         \u001b[0mprint\u001b[0m\u001b[1;33m(\u001b[0m\u001b[1;34m\"Successful!\"\u001b[0m\u001b[1;33m)\u001b[0m\u001b[1;33m\u001b[0m\u001b[1;33m\u001b[0m\u001b[0m\n\u001b[1;32m----> 6\u001b[1;33m     \u001b[1;32mexcept\u001b[0m \u001b[0mError\u001b[0m \u001b[1;32mas\u001b[0m \u001b[0merr\u001b[0m\u001b[1;33m:\u001b[0m\u001b[1;33m\u001b[0m\u001b[1;33m\u001b[0m\u001b[0m\n\u001b[0m\u001b[0;32m      7\u001b[0m         \u001b[0mprint\u001b[0m\u001b[1;33m(\u001b[0m\u001b[1;34mf\"Error: '{err}'\"\u001b[0m\u001b[1;33m)\u001b[0m\u001b[1;33m\u001b[0m\u001b[1;33m\u001b[0m\u001b[0m\n\u001b[0;32m      8\u001b[0m     \u001b[1;32mreturn\u001b[0m \u001b[0mconn\u001b[0m\u001b[1;33m\u001b[0m\u001b[1;33m\u001b[0m\u001b[0m\n",
      "\u001b[1;31mNameError\u001b[0m: name 'Error' is not defined"
     ]
    }
   ],
   "source": [
    "def create_server_connection(driver, server, database, user, password):\n",
    "    conn = None\n",
    "    try:\n",
    "        conn = pyodbc.connect(DRIVER=driver, SERVER=server, DATABASE=database, UID=user, PWD=password)\n",
    "        print(\"Successful!\")\n",
    "    except Error as err:\n",
    "        print(f\"Error: '{err}'\")\n",
    "    return conn\n",
    "\n",
    "driver = '{ODBC Driver 17 for SQL Server}'\n",
    "server = 'localhost'\n",
    "database = 'master'\n",
    "user = 'Bk'\n",
    "password = 'Abc123'\n",
    "conn = create_server_connection(driver, server, database, user, password)"
   ]
  },
  {
   "cell_type": "code",
   "execution_count": null,
   "id": "5e66e2cc",
   "metadata": {},
   "outputs": [],
   "source": [
    "conn_string = \"driver={ODBC Driver 17 for SQL Server}; server=localhost; database=master; TRUSTED_CONNECTION=yes;\""
   ]
  },
  {
   "cell_type": "code",
   "execution_count": null,
   "id": "ad6345c2",
   "metadata": {},
   "outputs": [],
   "source": [
    "conn = pyodbc.connect(conn_string);"
   ]
  },
  {
   "cell_type": "code",
   "execution_count": null,
   "id": "4e421269",
   "metadata": {},
   "outputs": [],
   "source": [
    "crs = conn.cursor()"
   ]
  },
  {
   "cell_type": "code",
   "execution_count": null,
   "id": "e4c0c3fc",
   "metadata": {},
   "outputs": [],
   "source": [
    "conn.autocommit = True"
   ]
  },
  {
   "cell_type": "code",
   "execution_count": null,
   "id": "34f34ef5",
   "metadata": {},
   "outputs": [],
   "source": [
    "def create_database(conn, create_database_query):\n",
    "    crs = conn.cursor()\n",
    "    try:\n",
    "        crs.execute(create_database_query)\n",
    "        print(\"Database is created successfully\")\n",
    "    except Error as err:\n",
    "        print(f\"Error: '{err}'\")"
   ]
  },
  {
   "cell_type": "code",
   "execution_count": null,
   "id": "8fb81d66",
   "metadata": {},
   "outputs": [],
   "source": [
    "create_database_query = 'CREATE DATABASE Test_DB'\n",
    "create_database(conn, create_database_query)"
   ]
  },
  {
   "cell_type": "code",
   "execution_count": null,
   "id": "4d6c23cb",
   "metadata": {},
   "outputs": [],
   "source": [
    "def execute_query(conn, query):\n",
    "    crs = conn.cursor()\n",
    "    try:\n",
    "        crs.execute(query)\n",
    "        conn.commit()\n",
    "        print(\"Query successful!\")\n",
    "    except Error as err:\n",
    "        print(f\"Error: '{err}'\")"
   ]
  },
  {
   "cell_type": "code",
   "execution_count": null,
   "id": "8660b89f",
   "metadata": {},
   "outputs": [],
   "source": [
    "query = 'USE Test_DB'\n",
    "execute_query(conn, query)"
   ]
  },
  {
   "cell_type": "code",
   "execution_count": null,
   "id": "359bb226",
   "metadata": {},
   "outputs": [],
   "source": [
    "query = \"\"\"\n",
    "        CREATE TABLE imdb (\n",
    "            Movie_ID INTEGER primary key,\n",
    "            Title VARCHAR(255) NOT NULL,\n",
    "            Certificate VARCHAR(255) NOT NULL,\n",
    "            Duration INTEGER NOT NULL,\n",
    "            Genre VARCHAR(255) NOT NULL,\n",
    "            Rate FLOAT NOT NULL,\n",
    "            Metascore INTEGER,\n",
    "            Description VARCHAR(4096) NOT NULL,\n",
    "            Year INTEGER NOT NULL,\n",
    "            Directors VARCHAR(255) NOT NULL,\n",
    "            Stars VARCHAR(255) NOT NULL,\n",
    "            Votes INTEGER,\n",
    "            Gross FLOAT\n",
    "        )\n",
    "        \"\"\"\n",
    "execute_query(conn, query)"
   ]
  },
  {
   "cell_type": "markdown",
   "id": "12a0cef6",
   "metadata": {},
   "source": [
    "**3- Insert the \"IMDB top 1000_LV.csv\" dataset into the database with Python.**"
   ]
  },
  {
   "cell_type": "code",
   "execution_count": null,
   "id": "bcf98310",
   "metadata": {},
   "outputs": [],
   "source": [
    "records = df.to_dict('records')"
   ]
  },
  {
   "cell_type": "code",
   "execution_count": null,
   "id": "0d49d892",
   "metadata": {},
   "outputs": [],
   "source": [
    "records"
   ]
  },
  {
   "cell_type": "code",
   "execution_count": null,
   "id": "bfdb144c",
   "metadata": {
    "jupyter": {
     "outputs_hidden": true
    }
   },
   "outputs": [],
   "source": [
    "#for k,v in enumerate(records, start = 1):\n",
    " #   print(k,v)"
   ]
  },
  {
   "cell_type": "code",
   "execution_count": null,
   "id": "d0bac15a",
   "metadata": {},
   "outputs": [],
   "source": [
    "#crs.execute(\"INSERT TestA (FirstName, LastName) VALUES (?,?)\",'Bruce', 'Lee')"
   ]
  },
  {
   "cell_type": "code",
   "execution_count": null,
   "id": "3ff0fbb9",
   "metadata": {},
   "outputs": [],
   "source": [
    "sql = 'INSERT imdb VALUES (?,?,?,?,?,?,?,?,?,?,?,?,?)'"
   ]
  },
  {
   "cell_type": "code",
   "execution_count": null,
   "id": "a0f7bff0",
   "metadata": {},
   "outputs": [],
   "source": [
    "for k,v in enumerate(records, start = 1):\n",
    "    crs.execute(sql, (k, v['Title'], v['Certificate'], v['Duration'], v['Genre'], v['Rate'], v['Metascore'],v['Description'], v['Year'], v['Directors'], v['Stars'], v['Votes'], v['Gross($M)']))"
   ]
  },
  {
   "cell_type": "code",
   "execution_count": null,
   "id": "872fa6f0",
   "metadata": {},
   "outputs": [],
   "source": []
  },
  {
   "cell_type": "markdown",
   "id": "906a81d1",
   "metadata": {},
   "source": [
    "**4- With Python and related sql queries from the database:**\n",
    "\n",
    "<br>- Find number of movies\n",
    "<br>- Find the highest rated movie\n",
    "<br>- Find the second highest rated movie\n",
    "<br>- Find the number of movies produced before 2000\n",
    "<br>- Find the average gross of the movies by years.\n",
    "<br>- Find the total number of movies by years.\n",
    "<br>- Draw the frequency graph of the film ratings.\n",
    "<br>- Find the top 10 movies with the highest gross and visualize them with a bar chart.\n",
    "<br>- Find the total groos of the movies directed Peter Jackson.\n",
    "<br>- Find the most popular star & most popular director and the number of movies they have included"
   ]
  },
  {
   "cell_type": "code",
   "execution_count": null,
   "id": "a0aa33ee",
   "metadata": {},
   "outputs": [],
   "source": [
    "df1= pd.read_sql(\"select top 10 * from imdb;\", con = conn)"
   ]
  },
  {
   "cell_type": "code",
   "execution_count": null,
   "id": "3b7fa513",
   "metadata": {
    "jupyter": {
     "outputs_hidden": true
    }
   },
   "outputs": [],
   "source": [
    "df1"
   ]
  },
  {
   "cell_type": "code",
   "execution_count": null,
   "id": "4fa13604",
   "metadata": {},
   "outputs": [],
   "source": [
    "# Find number of movies\n",
    "\n",
    "query_1 = \"SELECT COUNT(*) FROM imdb;\"\n",
    "\n",
    "crs.execute(query_1).fetchone()[0]\n"
   ]
  },
  {
   "cell_type": "code",
   "execution_count": null,
   "id": "d29948a1",
   "metadata": {},
   "outputs": [],
   "source": [
    "# --Find the highest rated movie\n",
    "query_2 = \"SELECT TOP 1 Title, Rate FROM imdb ORDER BY Rate DESC;\"\n",
    "\n",
    "crs.execute(query_2)\n",
    "highest_rated = crs.fetchone()\n",
    "\n",
    "\n"
   ]
  },
  {
   "cell_type": "code",
   "execution_count": null,
   "id": "e0853110",
   "metadata": {},
   "outputs": [],
   "source": [
    "highest_rated"
   ]
  },
  {
   "cell_type": "code",
   "execution_count": null,
   "id": "2c573e0a",
   "metadata": {},
   "outputs": [],
   "source": [
    "highest_rated[0]"
   ]
  },
  {
   "cell_type": "code",
   "execution_count": null,
   "id": "1a712e1b",
   "metadata": {},
   "outputs": [],
   "source": [
    "highest_rated[1]"
   ]
  },
  {
   "cell_type": "code",
   "execution_count": null,
   "id": "3d143643",
   "metadata": {},
   "outputs": [],
   "source": [
    "print(f\"Highest_rated_movie:{highest_rated[0]} ({highest_rated[1]} Rated)\")"
   ]
  },
  {
   "cell_type": "code",
   "execution_count": null,
   "id": "5ace9a7f",
   "metadata": {},
   "outputs": [],
   "source": [
    "# --Find the second highest rated movie\n",
    "query_3 = \"\"\"SELECT * \n",
    "             FROM    (SELECT Title, Rate, ROW_NUMBER() OVER (ORDER BY Rate DESC) ROWNUM FROM imdb) A\n",
    "             WHERE ROWNUM = 2\n",
    "            \"\"\"\n",
    "\n",
    "crs.execute(query_3)\n",
    "second_highest_rated = crs.fetchall()[0]\n",
    "second_highest_rated_movie = f\"{second_highest_rated[0]}({second_highest_rated[1]} Rated)\"\n",
    "print('second_highest_rated_movie:',second_highest_rated_movie)"
   ]
  },
  {
   "cell_type": "code",
   "execution_count": null,
   "id": "8760e0c8",
   "metadata": {},
   "outputs": [],
   "source": [
    "# --Find the number of movies produced before 2000\n",
    "\n",
    "query_4 =\"SELECT COUNT(Movie_ID) FROM imdb WHERE Year<2000;\"\n",
    "crs.execute(query_4)\n",
    "before_2000= crs.fetchall()[0][0]\n",
    "print(\"the number of movies produced before 2000:\",before_2000)"
   ]
  },
  {
   "cell_type": "code",
   "execution_count": null,
   "id": "74fe95c1",
   "metadata": {},
   "outputs": [],
   "source": [
    "crs.execute(query_4).fetchall()[0][0]"
   ]
  },
  {
   "cell_type": "code",
   "execution_count": null,
   "id": "259c464c",
   "metadata": {},
   "outputs": [],
   "source": []
  }
 ],
 "metadata": {
  "kernelspec": {
   "display_name": "Python 3",
   "language": "python",
   "name": "python3"
  },
  "language_info": {
   "codemirror_mode": {
    "name": "ipython",
    "version": 3
   },
   "file_extension": ".py",
   "mimetype": "text/x-python",
   "name": "python",
   "nbconvert_exporter": "python",
   "pygments_lexer": "ipython3",
   "version": "3.8.8"
  }
 },
 "nbformat": 4,
 "nbformat_minor": 5
}
