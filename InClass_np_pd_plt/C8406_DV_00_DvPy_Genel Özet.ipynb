{
 "cells": [
  {
   "cell_type": "raw",
   "id": "general-pantyhose",
   "metadata": {},
   "source": [
    " FUNCTIONAL olarak:\n",
    "\n",
    "     plot() fonksiyonunun içine verileri giriyoruz\n",
    "\n",
    "plt.plot(age, salary)\n",
    "\n",
    "plt.plot(age, salary)\n",
    "plt.plot(age, salary_2)\n",
    "\n",
    "plt.plot(age, salary, label=\"1\")\n",
    "plt.plot(age, salary_2, label=\"2\")\n",
    "plt.legend()\n",
    "\n",
    "plt.plot(age, salary)\n",
    "plt.plot(age, salary_2)\n",
    "plt.legend([\"1\", \"2\"])"
   ]
  },
  {
   "cell_type": "raw",
   "id": "bearing-drill",
   "metadata": {},
   "source": [
    "OBJECT ORIENTED olarak:\n",
    "\n",
    "    önce object'leri tanımlıyoruz, sonra .plot() metodu ile verileri giriyoruz\n",
    "\n",
    "fig, ax = plt.subplots()\n",
    "ax.plot(age, salary)\n",
    "\n",
    "fig, ax1 = plt.subplots(nrows=2, ncols=2)\n",
    "ax1[0,0].plot(age, salary) \n",
    "ax1[0,1].plot(age, salary_2) "
   ]
  },
  {
   "cell_type": "raw",
   "id": "leading-paraguay",
   "metadata": {},
   "source": [
    "SUBPLOT Kullanımı:\n",
    "\n",
    "fonksiyonda               --> subplot   (s yok)\n",
    "object oriented metod ile --> subplots  (s var)\n",
    "\n",
    "plt.subplot(1,2,1)\n",
    "\n",
    "fig, ax = plt.subplots()"
   ]
  },
  {
   "cell_type": "raw",
   "id": "actual-brush",
   "metadata": {},
   "source": [
    "BOXPLOT:\n",
    "\n",
    "Box plot, sayısal veri gruplarını çeyreklerine göre grafiksel olarak gösteren bir yöntemdir.\n",
    "\n",
    "\n",
    "Bir boxplot medyanı, 25. ve 75. yüzdelikleri ve outlier'ları gösterir.\n",
    "\n",
    "Boxplot bize EN FAZLA İSTATİSTİKSEL BİLGİ VEREN plottur."
   ]
  },
  {
   "cell_type": "raw",
   "id": "marked-slide",
   "metadata": {},
   "source": [
    "RUGPLOT : \n",
    "Her zaman tek boyutlu data girilir.\n",
    "\n",
    "Datasetimin her bir verisi için bir çizgi çiziyor. verinin nerelerde sıklaştığını gösteriyor. Histogram aynı işe yarar ama çok daha kullanışlıdır.\n",
    "\n",
    "y eksenini dikkate almıyoruz. sadece x eksenini dikkate alıyoruz. y ekseni sadece çizgilerin boyunu gösteriyor"
   ]
  },
  {
   "cell_type": "raw",
   "id": "central-edwards",
   "metadata": {},
   "source": [
    "Bu rugplotu displot ve histplot ile karşılaştıralım. aslında aynı şeyi ifade ettiklerini anlayalım.\n",
    "\n",
    "Displot ve histplot, rugplottaki verilerin miktarlarını aralıklar halinde gösterir. Rugplotta her bir veri için bir çizgi vardı, displot ve histplot, bu çizgilerin sayısını gösteriyor."
   ]
  },
  {
   "cell_type": "raw",
   "id": "nutritional-opening",
   "metadata": {},
   "source": [
    "Bir histogram grafiğini iki şekilde çizdirebiliyoruz, ya \"displot\" ile ya \"histplot\" ile..\n",
    "\n",
    "Displot, matplotlib'deki histograma karşılık gelir!"
   ]
  },
  {
   "cell_type": "raw",
   "id": "accessible-delhi",
   "metadata": {},
   "source": [
    "DISPLOT DEFAULT OLARAK HISTOGRAM ÇİZER\n",
    "ama sadece histogram çizmez, üzerinde başka plotlar da çizer. Mesela içinde kde=True dediğimde default olan histogram ile birlikte kde'yi de üzerine çizer. (kde sayesinde datasetim right skewed mı? left skewed mı görebiliyoruz.)\n",
    "\n",
    "* !!! DISPLOT KENDİSİ BİR CANVAS'TIR.\n",
    "yani müstakil bir figure'u var. onu bir axesin içerisine atamazsınız. Mesela 2x2 grafik yapacaksanız 4 tane grafiği gösterecekseniz bunu displotla yapamazsınız. \n",
    "* figsize gibi matplotlib'in object oriented yöntemlerini displotta kullanamıyoruz! displotta bunun yerine \"aspect\" attribute kullanıyoruz:\n",
    "      \n",
    "      sns.displot(data=mpg, x=\"weight\", kde = True, aspect=1.5);\n",
    "\n",
    "Ancak sns.hisplotla çizdiğiniz bir grafiği oraya koyabilirsiniz.\n",
    "Çoklu grafik çizeceğiniz zaman hisplot kullanmalısın!"
   ]
  },
  {
   "cell_type": "raw",
   "id": "neural-thing",
   "metadata": {},
   "source": [
    "kde : kernel density estimation"
   ]
  },
  {
   "cell_type": "raw",
   "id": "eligible-thanksgiving",
   "metadata": {},
   "source": [
    "DISTRIBUTION PLOTLARIN ORTAK ÖZELLİĞİ:\n",
    "\n",
    "   * İçerisine BİR tane column gönderiliyor!\n",
    "\n",
    "rugplot, histplot ve kdeplot: bu üçünün kodlarına bakıp ne söyleyebiliriz? bu üçündeki ortak şey nedir?\n",
    "    Dağılım arıyoruz bir distribution arıyoruz! \n",
    "Hisplotta bu dağılım için kaç eksen kullandık? datanın neyini kullandık? bizi kısıtlayan birşey var mı?\n",
    "    * Nümerik kullandık evet ama y'yi vermedik. kendi hesaplayarak verdi.\n",
    "    * Rugplotta verilerdeki sıklıklar gösteriliyordu. Rugplotta da aynı şekilde içine sadece bir değişken gönderdik. Fakat yeri geldikçe ihtiyaç oldukça \"hue\" kullanacağız.\n",
    "   \n",
    "hue neye yarıyor? \n",
    "    hue groupby gibi grubu bazı etiketlere göre ayırıyor.\n",
    "\n",
    "Distribution plotların ortak özelliği nedir?\n",
    "    * İçerisine BİR tane column gönderiliyor!"
   ]
  },
  {
   "cell_type": "raw",
   "id": "korean-arthur",
   "metadata": {},
   "source": [
    "SCATTER plot;\n",
    "\n",
    "bir plotlama kategorisine sokamayız. Distribution ve Categoric plotlardan farklıdır. Hem nümerik hem string verilerden oluşan bir satranç tahtasındaki kartezyen koordinatların belirlenmesi gibi düşünebiliriz veya bir uçaktaki koltuk numaraları..\n",
    "\n",
    "Scatter plot'un x ine ve y sine hem nümerik hem kategorik değişken verebilir miyiz?\n",
    "\n",
    "    Verebiliriz. x'in ve y'nin aynı boyutta çıkabilmesi önemli.\n",
    "\n",
    "Virgüllü (float) sayılar olursa scatter gerçekten çok güzel çalışır. Her iki tarafa da tam sayılar girildiğinde kartezyen koord.ların sadece köşeleri çıkar ve çok anlamlı birşey ortaya koyamayız. En azından bir eksenin float olması grafiğe anlam katar.\n",
    "    "
   ]
  },
  {
   "cell_type": "raw",
   "id": "continuous-blame",
   "metadata": {},
   "source": [
    "JOINPLOT:\n",
    "\n",
    "Scatterplot ile histogramın birleşimi gibi birşeydir.\n",
    "\n",
    "       sns.jointplot(data=tips, x=\"total_bill\", y=\"tip\", kind=\"scatter\")\n",
    "\n",
    "Default olarak scatter çizer (kind, default olarak scatter alır.)"
   ]
  },
  {
   "cell_type": "raw",
   "id": "aboriginal-animal",
   "metadata": {},
   "source": [
    "PAIRPLOT:\n",
    "\n",
    "sns.pairplot(data=tips)\n",
    "\n",
    "pairplot, hem tek değişkenlerin dağılımını hem de iki değişken arasındaki ilişkiyi görmenizi sağlar.\n",
    "\n",
    "datasetini pairplot'un içine atıyorsun ve o tüm featureların birbiri ile grafiklerini çiziyor. Bunu parça parça da yapabilirsin. ilk 5'ini sonraki 5'ini gibi.\n",
    "\n",
    "Genellikle bir EDA'ya veya bir görselleştirmeye başlarken tüm datasetinin birbirleri ile görsel ilişkisini yakalamak için bir pairplot kullanırız.\n",
    "\n",
    "Pairplot ile bir patern yakalamaya çalışırız daha sonra diyelim \"tip\" ile \"total_bill\" arasında bir ilişki gördünüz, orada detay çalışmak için diğer plotları kullanırız."
   ]
  },
  {
   "cell_type": "raw",
   "id": "tender-speaking",
   "metadata": {},
   "source": [
    "KATEGORİK PLOTLAR:\n",
    "\n",
    "* kategorik plotta direkt kategorilerin sayılarını alıyoruz.\n",
    "\n",
    "* kategorik plotta eksenlerimizden biri kategorik diğeri numerik olacak. \n",
    "\n",
    "* kategorilerin count'u numerik ekseni oluşturacak."
   ]
  },
  {
   "cell_type": "raw",
   "id": "attempted-distribution",
   "metadata": {},
   "source": [
    "BARPLOT - COUNTPLOT BERABER:\n",
    "\n",
    "fig, ax = plt.subplots(nrows=1, ncols=2, figsize=(16,6))\n",
    "\n",
    "ax[0] = sns.barplot(data = tips, x = \"day\", y = \"total_bill\", ax = ax[0])  \n",
    "\n",
    "ax[1] = sns.countplot(data = tips, x = \"day\",                 ax = ax[1]) \n",
    "\n",
    "# barplotta y değeri GİRMEZSEM hata verir! \n",
    "\n",
    "# countplotta y değeri GİRERSEM hata verir! (Tek değer girmeliyim)"
   ]
  }
 ],
 "metadata": {
  "kernelspec": {
   "display_name": "Python 3",
   "language": "python",
   "name": "python3"
  },
  "language_info": {
   "codemirror_mode": {
    "name": "ipython",
    "version": 3
   },
   "file_extension": ".py",
   "mimetype": "text/x-python",
   "name": "python",
   "nbconvert_exporter": "python",
   "pygments_lexer": "ipython3",
   "version": "3.7.8"
  }
 },
 "nbformat": 4,
 "nbformat_minor": 5
}
